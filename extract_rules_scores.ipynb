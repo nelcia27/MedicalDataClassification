{
 "cells": [
  {
   "cell_type": "code",
   "execution_count": 78,
   "metadata": {},
   "outputs": [],
   "source": [
    "import pandas as pd\n",
    "\n",
    "path = \"C:\\\\Users\\\\Kornelia\\\\Desktop\\\\SI\\\\MGR\\\\rules_drsa_b\\\\\"\n",
    "files_path = []\n",
    "for f in range(0,10):\n",
    "    files_path.append(path + \"bc0\" + str(f) + \".txt\")\n",
    "files_path.append(path + \"bc10.txt\")\n",
    "files_path.append(path + \"bp00.txt\")"
   ]
  },
  {
   "cell_type": "code",
   "execution_count": 79,
   "metadata": {},
   "outputs": [],
   "source": [
    "#support=1, strength=0.0196078431372549, coverage-factor=0.1, confidence=1.0, epsilon=0.0\n",
    "def get_params(file):\n",
    "    with open(file) as f:\n",
    "        lines = f.readlines()\n",
    "        support = []\n",
    "        strength = []\n",
    "        coverage_factor = []\n",
    "        confidence = []\n",
    "        epsilon = []\n",
    "        values = [support, strength, coverage_factor, confidence, epsilon]\n",
    "        for l in lines:\n",
    "            l_ = str(l)\n",
    "            elems = l_.split(\" [\")\n",
    "            elems_ = elems[1].split(\",\")\n",
    "            result = []\n",
    "            for e in elems_[:-1]:\n",
    "                res = e.split(\"=\")\n",
    "                result.append(res[-1])\n",
    "            res = elems[-1].split(\"=\")\n",
    "            result.append(res[-1][:-2])\n",
    "            for i, v in enumerate(values):\n",
    "                v.append(result[i])\n",
    "    return values      "
   ]
  },
  {
   "cell_type": "code",
   "execution_count": 83,
   "metadata": {},
   "outputs": [],
   "source": [
    "def round_data(values):\n",
    "    values_ = []\n",
    "    for val in values:\n",
    "        val_ = []\n",
    "        for v in val:\n",
    "            val_.append(round(float(v),2))\n",
    "        values_.append(val_)\n",
    "    return values_"
   ]
  },
  {
   "cell_type": "code",
   "execution_count": 84,
   "metadata": {},
   "outputs": [],
   "source": [
    "def build_df(values):\n",
    "    dict_ = {\"support\" : values[0], \n",
    "             \"strength\" : values[1], \n",
    "             \"coverage_factor\" : values[2], \n",
    "             \"confidence\" : values[3], \n",
    "             \"epsilon\" : values[4]}\n",
    "    return pd.DataFrame(dict_)"
   ]
  },
  {
   "cell_type": "code",
   "execution_count": 85,
   "metadata": {},
   "outputs": [],
   "source": [
    "def multiple_dfs(df_list, sheets, file_name, spaces):\n",
    "    writer = pd.ExcelWriter(file_name, engine = 'openpyxl', mode = 'a')   \n",
    "    row = 0\n",
    "    for dataframe in df_list:\n",
    "        dataframe.to_excel(writer,sheet_name=sheets,startrow=row , startcol=0)   \n",
    "        row = row + len(dataframe.index) + spaces + 1\n",
    "    writer.save()"
   ]
  },
  {
   "cell_type": "code",
   "execution_count": 86,
   "metadata": {},
   "outputs": [],
   "source": [
    "dfs = []\n",
    "\n",
    "for f_name in files_path:\n",
    "    dfs.append(build_df(round_data(get_params(f_name))))\n",
    "\n",
    "\n",
    "multiple_dfs(dfs, 'Rules statistics', 'C:\\\\Users\\\\Kornelia\\\\Desktop\\\\SI\\\\MGR\\\\DRSA_b.xlsx', 1)"
   ]
  }
 ],
 "metadata": {
  "kernelspec": {
   "display_name": "Python 3",
   "language": "python",
   "name": "python3"
  },
  "language_info": {
   "codemirror_mode": {
    "name": "ipython",
    "version": 3
   },
   "file_extension": ".py",
   "mimetype": "text/x-python",
   "name": "python",
   "nbconvert_exporter": "python",
   "pygments_lexer": "ipython3",
   "version": "3.7.4"
  }
 },
 "nbformat": 4,
 "nbformat_minor": 2
}
